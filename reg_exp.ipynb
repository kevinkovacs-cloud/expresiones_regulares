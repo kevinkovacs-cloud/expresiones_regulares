{
  "nbformat": 4,
  "nbformat_minor": 0,
  "metadata": {
    "colab": {
      "provenance": []
    },
    "kernelspec": {
      "name": "python3",
      "display_name": "Python 3"
    },
    "language_info": {
      "name": "python"
    }
  },
  "cells": [
    {
      "cell_type": "markdown",
      "source": [
        "Notebook inicial sobre Regular Expression"
      ],
      "metadata": {
        "id": "usTXN575B9Cm"
      }
    },
    {
      "cell_type": "code",
      "execution_count": 1,
      "metadata": {
        "id": "q4LsymOs99eI"
      },
      "outputs": [],
      "source": [
        "import re"
      ]
    },
    {
      "cell_type": "markdown",
      "source": [
        "Metodo search:"
      ],
      "metadata": {
        "id": "u9VOPrNw_Cp9"
      }
    },
    {
      "cell_type": "markdown",
      "source": [
        "(23,29) indica la ubicación donde se encuentra el string a localizar (en este caso python) y te dice hasta donde llega."
      ],
      "metadata": {
        "id": "BF95unZI-kc9"
      }
    },
    {
      "cell_type": "code",
      "source": [
        "cadena = \"este es un notebook de python donde vamos a estudiar expresiones regulares\"\n",
        "texto_encontrado = re.search(\"python\", cadena)"
      ],
      "metadata": {
        "id": "sVIfci-1-bSW"
      },
      "execution_count": 5,
      "outputs": []
    },
    {
      "cell_type": "markdown",
      "source": [
        "Podemos guardarlo de la siguiente manera:"
      ],
      "metadata": {
        "id": "ktGouYkS-6zr"
      }
    },
    {
      "cell_type": "code",
      "source": [
        "print(texto_encontrado.start())\n",
        "print(texto_encontrado.end())"
      ],
      "metadata": {
        "colab": {
          "base_uri": "https://localhost:8080/"
        },
        "id": "FhhHZuGI-jhW",
        "outputId": "98a8124a-1a5a-4216-87e2-6583909c4d75"
      },
      "execution_count": 6,
      "outputs": [
        {
          "output_type": "stream",
          "name": "stdout",
          "text": [
            "23\n",
            "29\n"
          ]
        }
      ]
    },
    {
      "cell_type": "markdown",
      "source": [
        "Otro metodo es \"findall\", para encontrar la cantidad de veces que aparece x expresión:"
      ],
      "metadata": {
        "id": "hYFVMdXw_AXu"
      }
    },
    {
      "cell_type": "code",
      "source": [
        "print(re.findall(\"python\", cadena))"
      ],
      "metadata": {
        "colab": {
          "base_uri": "https://localhost:8080/"
        },
        "id": "w84HV1Mt-z8x",
        "outputId": "fc99376c-60a0-49e6-f9b1-0eb4c56bdef4"
      },
      "execution_count": 9,
      "outputs": [
        {
          "output_type": "stream",
          "name": "stdout",
          "text": [
            "['python']\n"
          ]
        }
      ]
    },
    {
      "cell_type": "code",
      "source": [
        "print(len(re.findall(\"n\", cadena)))"
      ],
      "metadata": {
        "colab": {
          "base_uri": "https://localhost:8080/"
        },
        "id": "858UY_d2_EUa",
        "outputId": "00c337cf-551d-415a-8ade-e1240c83d8b1"
      },
      "execution_count": 10,
      "outputs": [
        {
          "output_type": "stream",
          "name": "stdout",
          "text": [
            "5\n"
          ]
        }
      ]
    },
    {
      "cell_type": "code",
      "source": [
        "lista_nombres = [\"juan perez\", \"jorge martinez\", \"jose fernandez\", \"marcelo caiafa\"]"
      ],
      "metadata": {
        "id": "NkWG9whq_MX7"
      },
      "execution_count": 12,
      "outputs": []
    },
    {
      "cell_type": "markdown",
      "source": [
        "Buscamos todos los \"Jose\" en la lista recien definida:"
      ],
      "metadata": {
        "id": "RgGal5Mb_wAd"
      }
    },
    {
      "cell_type": "code",
      "source": [
        "for nombre in lista_nombres:\n",
        "  if re.findall(\"jose\", nombre):\n",
        "    print(nombre)"
      ],
      "metadata": {
        "colab": {
          "base_uri": "https://localhost:8080/"
        },
        "id": "hGevs4oE_Z_8",
        "outputId": "8d6047e2-7c7c-4aef-cdba-7316d44f06e5"
      },
      "execution_count": 13,
      "outputs": [
        {
          "output_type": "stream",
          "name": "stdout",
          "text": [
            "jose fernandez\n"
          ]
        }
      ]
    },
    {
      "cell_type": "markdown",
      "source": [
        "Ahora buscamos todos los que empiezan con \"jo\":"
      ],
      "metadata": {
        "id": "2Bvx2FA2_yzz"
      }
    },
    {
      "cell_type": "code",
      "source": [
        "for nombre in lista_nombres:\n",
        " if re.findall(\"^jo\", nombre):\n",
        "  print(nombre)"
      ],
      "metadata": {
        "colab": {
          "base_uri": "https://localhost:8080/"
        },
        "id": "7qy6l-Y8_e5G",
        "outputId": "c1719eda-6cbd-4aa0-b355-7f3982079e43"
      },
      "execution_count": 14,
      "outputs": [
        {
          "output_type": "stream",
          "name": "stdout",
          "text": [
            "jorge martinez\n",
            "jose fernandez\n"
          ]
        }
      ]
    },
    {
      "cell_type": "markdown",
      "source": [
        "Y todos los que terminan en \"ez\":"
      ],
      "metadata": {
        "id": "UA-OZG89_0qS"
      }
    },
    {
      "cell_type": "code",
      "source": [
        "for nombre in lista_nombres:\n",
        " if re.findall(\"ez$\", nombre):\n",
        "  print(nombre)"
      ],
      "metadata": {
        "colab": {
          "base_uri": "https://localhost:8080/"
        },
        "id": "qsArpLiA_qMO",
        "outputId": "699fb9a4-d7b0-4234-a8a2-d528b724e343"
      },
      "execution_count": 15,
      "outputs": [
        {
          "output_type": "stream",
          "name": "stdout",
          "text": [
            "juan perez\n",
            "jorge martinez\n",
            "jose fernandez\n"
          ]
        }
      ]
    },
    {
      "cell_type": "markdown",
      "source": [
        "Otro ejemplo:"
      ],
      "metadata": {
        "id": "p5UyE9M8_9bx"
      }
    },
    {
      "cell_type": "code",
      "source": [
        "lista_nombres = [\"varon\", \"mujer\", \"niño\", \"niña\", \"adulto\"]"
      ],
      "metadata": {
        "id": "ByOzAJWp_tDP"
      },
      "execution_count": 17,
      "outputs": []
    },
    {
      "cell_type": "code",
      "source": [
        "for nombre in lista_nombres:\n",
        " if re.findall(\"niñ[ao]\", nombre):\n",
        "  print(nombre)"
      ],
      "metadata": {
        "colab": {
          "base_uri": "https://localhost:8080/"
        },
        "id": "usAdu8dT__XJ",
        "outputId": "bc2879b1-e92e-464e-9804-8d2fbf093e30"
      },
      "execution_count": 18,
      "outputs": [
        {
          "output_type": "stream",
          "name": "stdout",
          "text": [
            "niño\n",
            "niña\n"
          ]
        }
      ]
    },
    {
      "cell_type": "markdown",
      "source": [
        "Buscamos nombres que contengan A y B:"
      ],
      "metadata": {
        "id": "W1PelHjxAJCf"
      }
    },
    {
      "cell_type": "code",
      "source": [
        "lista_nombres = [\"ana\", \"sandra\", \"juan\", \"jose\", \"jobge\", \"pepe\"]\n",
        "for nombre in lista_nombres:\n",
        "  if re.findall(\"[a-b]\", nombre):\n",
        "    print(nombre)"
      ],
      "metadata": {
        "colab": {
          "base_uri": "https://localhost:8080/"
        },
        "id": "Cb6539k4ABIJ",
        "outputId": "a3a51583-0c88-4f59-fe53-eb7688f84d51"
      },
      "execution_count": 20,
      "outputs": [
        {
          "output_type": "stream",
          "name": "stdout",
          "text": [
            "ana\n",
            "sandra\n",
            "juan\n",
            "jobge\n"
          ]
        }
      ]
    },
    {
      "cell_type": "markdown",
      "source": [
        "Ahora las que empiezan con A o J:"
      ],
      "metadata": {
        "id": "XOYdBh-_AT2O"
      }
    },
    {
      "cell_type": "code",
      "source": [
        "for nombre in lista_nombres:\n",
        " if re.findall(\"^[a-j]\", nombre):\n",
        "  print(nombre)"
      ],
      "metadata": {
        "colab": {
          "base_uri": "https://localhost:8080/"
        },
        "id": "7leUEPvLAMa8",
        "outputId": "a544a1dd-7bb2-4067-c911-0619e55d2818"
      },
      "execution_count": 21,
      "outputs": [
        {
          "output_type": "stream",
          "name": "stdout",
          "text": [
            "ana\n",
            "juan\n",
            "jose\n",
            "jobge\n"
          ]
        }
      ]
    },
    {
      "cell_type": "code",
      "source": [
        "# texto de entrada\n",
        "becquer = \"\"\"Podrá nublarse el sol eternamente;\n",
        "Podrá secarse en un instante el mar;\n",
        "Podrá romperse el eje de la tierra\n",
        "como un débil cristal.\n",
        "¡todo sucederá! Podrá la muerte\n",
        "cubrirme con su fúnebre crespón;\n",
        "Pero jamás en mí podrá apagarse\n",
        "la llama de tu amor.\"\"\"\n",
        "# patron para dividir donde no encuentre un caracter alfanumerico o más de uno\n",
        "patron = re.compile(r'\\W+')\n",
        "palabras = patron.split(becquer)\n",
        "# imprimo las 10 primeras palabras\n",
        "print(palabras[:10])"
      ],
      "metadata": {
        "colab": {
          "base_uri": "https://localhost:8080/"
        },
        "id": "iCvtuP81AWwk",
        "outputId": "e4065c26-2ed1-478c-f554-1ec053c0aa1d"
      },
      "execution_count": 22,
      "outputs": [
        {
          "output_type": "stream",
          "name": "stdout",
          "text": [
            "['Podrá', 'nublarse', 'el', 'sol', 'eternamente', 'Podrá', 'secarse', 'en', 'un', 'instante']\n"
          ]
        }
      ]
    },
    {
      "cell_type": "code",
      "source": [
        "# Cambiando \"Podrá\" o \"podra\" por \"Puede\"\n",
        "podra = re.compile(r'\\b(P|p)odrá\\b')  #define el patrón\n",
        "puede = podra.sub(\"Puede\", becquer)\n",
        "print(puede)"
      ],
      "metadata": {
        "colab": {
          "base_uri": "https://localhost:8080/"
        },
        "id": "y3PnaifnAg-9",
        "outputId": "c2181a7f-09cf-471c-ff68-b0b711960b22"
      },
      "execution_count": 29,
      "outputs": [
        {
          "output_type": "stream",
          "name": "stdout",
          "text": [
            "Puede nublarse el sol eternamente; \n",
            "Puede secarse en un instante el mar; \n",
            "Puede romperse el eje de la tierra \n",
            "como un débil cristal. \n",
            "¡todo sucederá! Puede la muerte \n",
            "cubrirme con su fúnebre crespón; \n",
            "Pero jamás en mí Puede apagarse \n",
            "la llama de tu amor.\n"
          ]
        }
      ]
    }
  ]
}